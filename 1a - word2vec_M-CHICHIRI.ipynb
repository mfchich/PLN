{
 "cells": [
  {
   "cell_type": "markdown",
   "metadata": {
    "id": "Ue5hxxkdAQJg"
   },
   "source": [
    "<img src=\"https://github.com/FIUBA-Posgrado-Inteligencia-Artificial/procesamiento_lenguaje_natural/raw/main/logoFIUBA.jpg\" width=\"500\" align=\"center\">\n",
    "\n",
    "\n",
    "# Procesamiento de lenguaje natural\n",
    "## Word2vect\n"
   ]
  },
  {
   "cell_type": "markdown",
   "metadata": {},
   "source": [
    "### Marcelo Chichiri"
   ]
  },
  {
   "cell_type": "code",
   "execution_count": 1,
   "metadata": {
    "id": "kCED1hh-Ioyf"
   },
   "outputs": [],
   "source": [
    "import numpy as np\n",
    "from tabulate import tabulate\n",
    "import pandas as pd"
   ]
  },
  {
   "cell_type": "code",
   "execution_count": 2,
   "metadata": {
    "id": "PUbfVnzIIoMj"
   },
   "outputs": [],
   "source": [
    "# Se define funciin de similitud por coseno\n",
    "def cosine_similarity(a, b, mostrar_calculos=False):\n",
    "    if mostrar_calculos:\n",
    "        print(f'a : {a}')    \n",
    "        print(f'b : {b}')       \n",
    "        print(f'np.dot(a, b) : {np.dot(a, b)}')\n",
    "        print(f'np.linalg.norm(a) : {np.linalg.norm(a)}')\n",
    "        print(f'np.linalg.norm(b) : {np.linalg.norm(b)}')\n",
    "    return np.dot(a, b) / (np.linalg.norm(a) * (np.linalg.norm(b)))"
   ]
  },
  {
   "cell_type": "markdown",
   "metadata": {
    "id": "DMOa4JPSCJ29"
   },
   "source": [
    "### Datos"
   ]
  },
  {
   "cell_type": "code",
   "execution_count": 3,
   "metadata": {
    "id": "RIO7b8GjAC17"
   },
   "outputs": [],
   "source": [
    "# Se carga el corpus\n",
    "corpus = np.array(['que dia es hoy', 'martes el dia de hoy es martes', 'martes muchas gracias'])\n",
    "\n",
    "#Otro corpus de prueba\n",
    "#corpus = np.array(['que bueno que esta', 'esta muy bueno', 'esta excelente'])"
   ]
  },
  {
   "cell_type": "markdown",
   "metadata": {
    "id": "8WqdaTmO8P1r"
   },
   "source": [
    "Documento 1 --> que dia es hoy \\\n",
    "Documento 2 --> martes el dia de hoy es martes \\\n",
    "Documento 3 --> martes muchas gracias"
   ]
  },
  {
   "cell_type": "markdown",
   "metadata": {
    "id": "FVHxBRNzCMOS"
   },
   "source": [
    "### 1 - Obtener el vocabulario del corpus (los términos utilizados)\n",
    "- Cada documento transformarlo en una lista de términos\n",
    "- Armar un vector de términos no repetidos de todos los documentos"
   ]
  },
  {
   "cell_type": "code",
   "execution_count": 4,
   "metadata": {
    "id": "3ZqTOZzDI7uv"
   },
   "outputs": [
    {
     "name": "stdout",
     "output_type": "stream",
     "text": [
      "Vocabulario : ['de', 'dia', 'el', 'es', 'gracias', 'hoy', 'martes', 'muchas', 'que']\n"
     ]
    }
   ],
   "source": [
    "# Se separa cada termino de cada documento y se genera el vocabulario\n",
    "Term = corpus[0].split(\" \")\n",
    "for i in range(len(corpus)-1):\n",
    "    Term = Term + corpus[i+1].split(\" \")\n",
    "    \n",
    "Terms = sorted(set(Term))\n",
    "print(f'Vocabulario : {Terms}')"
   ]
  },
  {
   "cell_type": "markdown",
   "metadata": {
    "id": "RUhH983FI7It"
   },
   "source": [
    "### 2- OneHot encoding\n",
    "Data una lista de textos, devolver una matriz con la representación oneHotEncoding de estos"
   ]
  },
  {
   "cell_type": "code",
   "execution_count": 5,
   "metadata": {
    "id": "Os0AAQo6I6Z1"
   },
   "outputs": [
    {
     "name": "stdout",
     "output_type": "stream",
     "text": [
      "Terminos : ['de', 'dia', 'el', 'es', 'gracias', 'hoy', 'martes', 'muchas', 'que']\n",
      "Corpus : ['que dia es hoy' 'martes el dia de hoy es martes' 'martes muchas gracias'] \n",
      "\n",
      "Tabla One Hot encodding\n",
      "  de    dia    el    es    gracias    hoy    martes    muchas    que\n",
      "----  -----  ----  ----  ---------  -----  --------  --------  -----\n",
      "   0      1     0     1          0      1         0         0      1\n",
      "   1      1     1     1          0      1         1         0      0\n",
      "   0      0     0     1          1      0         1         1      0\n"
     ]
    }
   ],
   "source": [
    "# Se calcula la matriz One Hot\n",
    "matriz_OH = np.zeros((len(corpus), len(Terms))) \n",
    "for i in range(len(corpus)):\n",
    "    t = list(corpus)[i]\n",
    "    for j in range(len(Terms)):\n",
    "        if list(Terms)[j] in t:\n",
    "            matriz_OH[i,j] = 1\n",
    "\n",
    "print(f'Terminos : {Terms}')\n",
    "print(f'Corpus : {corpus.T} \\n')\n",
    "print(f'Tabla One Hot encodding')\n",
    "print(tabulate(matriz_OH, headers=Terms))"
   ]
  },
  {
   "cell_type": "markdown",
   "metadata": {
    "id": "IIyWGmCpJVQL"
   },
   "source": [
    "### 3- Vectores de frecuencia\n",
    "Data una lista de textos, devolver una matriz con la representación de frecuencia de estos"
   ]
  },
  {
   "cell_type": "code",
   "execution_count": 6,
   "metadata": {
    "id": "yqij_7eHJbUi"
   },
   "outputs": [
    {
     "name": "stdout",
     "output_type": "stream",
     "text": [
      "Terminos : ['de', 'dia', 'el', 'es', 'gracias', 'hoy', 'martes', 'muchas', 'que']\n",
      "Corpus : ['que dia es hoy' 'martes el dia de hoy es martes' 'martes muchas gracias'] \n",
      "\n",
      "Tabla Vector de frecuencia\n",
      "  de    dia    el    es    gracias    hoy    martes    muchas    que\n",
      "----  -----  ----  ----  ---------  -----  --------  --------  -----\n",
      "   0      1     0     1          0      1         0         0      1\n",
      "   1      1     1     1          0      1         2         0      0\n",
      "   0      0     0     0          1      0         1         1      0\n"
     ]
    }
   ],
   "source": [
    "# Se calcula la matriz frecuencia\n",
    "matriz_F = np.zeros((len(corpus), len(Terms))) #, dtype=int)\n",
    "for i in range(len(corpus)):\n",
    "    t = corpus[i].split(\" \") \n",
    "    for j in range(len(Terms)):\n",
    "        for k in range(len(t)):\n",
    "            if list(t)[k] == list(Terms)[j]:            \n",
    "                matriz_F[i,j] = matriz_F[i,j] + 1\n",
    "                \n",
    "print(f'Terminos : {Terms}')\n",
    "print(f'Corpus : {corpus.T} \\n')\n",
    "print(f'Tabla Vector de frecuencia')\n",
    "print(tabulate(matriz_F, headers=Terms))"
   ]
  },
  {
   "cell_type": "markdown",
   "metadata": {
    "id": "z_Ot8HvWJcBu"
   },
   "source": [
    "### 4- TF-IDF\n",
    "Data una lista de textos, devolver una matriz con la representacion TFIDF"
   ]
  },
  {
   "cell_type": "code",
   "execution_count": 7,
   "metadata": {
    "id": "waG_oWtpJjRw",
    "scrolled": true
   },
   "outputs": [
    {
     "name": "stdout",
     "output_type": "stream",
     "text": [
      "\n",
      "Tabla IDF\n",
      "      de       dia        el    es    gracias       hoy    martes    muchas       que\n",
      "--------  --------  --------  ----  ---------  --------  --------  --------  --------\n",
      "0.477121  0.176091  0.477121     0   0.477121  0.176091  0.176091  0.477121  0.477121 \n",
      "\n"
     ]
    }
   ],
   "source": [
    "# Se calcula la patriz IDF\n",
    "N = len(corpus)\n",
    "matriz_IDF = np.zeros((len(Terms))) \n",
    "for i in range(len(Terms)):\n",
    "    matriz_IDF[i] = np.log10(N/sum(matriz_OH[0:N,i]))\n",
    "    \n",
    "print(f'\\nTabla IDF')\n",
    "print(tabulate(matriz_IDF.reshape((len(Terms),1)).T, headers=Terms), '\\n')"
   ]
  },
  {
   "cell_type": "code",
   "execution_count": 8,
   "metadata": {},
   "outputs": [
    {
     "name": "stdout",
     "output_type": "stream",
     "text": [
      "\n",
      "Tabla TF-IDF\n",
      "    de     dia      el    es    gracias     hoy    martes    muchas     que\n",
      "------  ------  ------  ----  ---------  ------  --------  --------  ------\n",
      "0       0.1761  0          0     0       0.1761    0         0       0.4771\n",
      "0.4771  0.1761  0.4771     0     0       0.1761    0.3522    0       0\n",
      "0       0       0          0     0.4771  0         0.1761    0.4771  0 \n",
      "\n"
     ]
    }
   ],
   "source": [
    "matriz_TF_IDF = np.zeros((len(corpus), len(Terms))) \n",
    "for i in range(len(corpus)):\n",
    "    for j in range(len(Terms)):\n",
    "        matriz_TF_IDF[i, j] = matriz_F[i, j] * matriz_IDF[j]\n",
    "\n",
    "print(f'\\nTabla TF-IDF')\n",
    "print(tabulate(matriz_TF_IDF.round(4), headers=Terms), '\\n')"
   ]
  },
  {
   "cell_type": "code",
   "execution_count": 9,
   "metadata": {},
   "outputs": [
    {
     "name": "stdout",
     "output_type": "stream",
     "text": [
      "Tabla One Hot encodding\n",
      "  de    dia    el    es    gracias    hoy    martes    muchas    que\n",
      "----  -----  ----  ----  ---------  -----  --------  --------  -----\n",
      "   0      1     0     1          0      1         0         0      1\n",
      "   1      1     1     1          0      1         1         0      0\n",
      "   0      0     0     1          1      0         1         1      0\n",
      "\n",
      "Tabla Vector de frecuencia\n",
      "  de    dia    el    es    gracias    hoy    martes    muchas    que\n",
      "----  -----  ----  ----  ---------  -----  --------  --------  -----\n",
      "   0      1     0     1          0      1         0         0      1\n",
      "   1      1     1     1          0      1         2         0      0\n",
      "   0      0     0     0          1      0         1         1      0\n",
      "\n",
      "Tabla IDF\n",
      "      de       dia        el    es    gracias       hoy    martes    muchas       que\n",
      "--------  --------  --------  ----  ---------  --------  --------  --------  --------\n",
      "0.477121  0.176091  0.477121     0   0.477121  0.176091  0.176091  0.477121  0.477121 \n",
      "\n",
      "\n",
      "Tabla TF-IDF\n",
      "    de     dia      el    es    gracias     hoy    martes    muchas     que\n",
      "------  ------  ------  ----  ---------  ------  --------  --------  ------\n",
      "0       0.1761  0          0     0       0.1761    0         0       0.4771\n",
      "0.4771  0.1761  0.4771     0     0       0.1761    0.3522    0       0\n",
      "0       0       0          0     0.4771  0         0.1761    0.4771  0 \n",
      "\n"
     ]
    }
   ],
   "source": [
    "# Se muestran todas las matrices calculadas\n",
    "print(f'Tabla One Hot encodding')\n",
    "print(tabulate(matriz_OH, headers=Terms))\n",
    "\n",
    "print(f'\\nTabla Vector de frecuencia')\n",
    "print(tabulate(matriz_F, headers=Terms))\n",
    "\n",
    "print(f'\\nTabla IDF')\n",
    "print(tabulate(matriz_IDF.reshape((len(Terms),1)).T, headers=Terms), '\\n')\n",
    "\n",
    "print(f'\\nTabla TF-IDF')\n",
    "print(tabulate(matriz_TF_IDF.round(4), headers=Terms), '\\n')\n"
   ]
  },
  {
   "cell_type": "markdown",
   "metadata": {
    "id": "xMcsfndWJjm_"
   },
   "source": [
    "### 5 - Comparación de documentos\n",
    "Realizar una funcion que reciba el corpus y el índice de un documento y devuelva los documentos ordenados por la similitud coseno"
   ]
  },
  {
   "cell_type": "code",
   "execution_count": 10,
   "metadata": {},
   "outputs": [],
   "source": [
    "# Se prepara un dataframe para guardar la comparacion de cada documento para obtener los mas similares\n",
    "df_compara = pd.DataFrame([], columns=['Similitud', 'Ind.Doc.1', 'Ind.Doc.2', 'Doc.1', 'Doc.2'])\n"
   ]
  },
  {
   "cell_type": "code",
   "execution_count": 11,
   "metadata": {
    "id": "CZdiop6IJpZN"
   },
   "outputs": [],
   "source": [
    "# Calcula la similitud entre documentos\n",
    "\n",
    "for i in range(len(corpus)):\n",
    "    for j in range(i+1, len(corpus)):\n",
    "        a = matriz_TF_IDF[i, :]\n",
    "        b = matriz_TF_IDF[j, :]\n",
    "        cos = cosine_similarity(a, b)\n",
    "        nuevo_reg = pd.Series({'Similitud': cos.round(4),'Ind.Doc.1': i, 'Ind.Doc.2': j, 'Doc.1': corpus[i], 'Doc.2':corpus[j]})\n",
    "        df_compara = pd.concat([df_compara, nuevo_reg.to_frame().T], ignore_index=True)\n"
   ]
  },
  {
   "cell_type": "code",
   "execution_count": 12,
   "metadata": {},
   "outputs": [
    {
     "name": "stdout",
     "output_type": "stream",
     "text": [
      "Indice de documentos\n",
      "Documento 0 : que dia es hoy\n",
      "Documento 1 : martes el dia de hoy es martes\n",
      "Documento 2 : martes muchas gracias\n",
      "\n",
      "\n",
      "Tabla comparativa de similitudes entre documentos\n",
      "* Por simplicidad, para cada par de documentos solo se muestran una combinación\n"
     ]
    },
    {
     "data": {
      "text/html": [
       "<table border=\"1\" class=\"dataframe\">\n",
       "  <thead>\n",
       "    <tr style=\"text-align: right;\">\n",
       "      <th>Similitud</th>\n",
       "      <th>Ind.Doc.1</th>\n",
       "      <th>Ind.Doc.2</th>\n",
       "      <th>Doc.1</th>\n",
       "      <th>Doc.2</th>\n",
       "    </tr>\n",
       "  </thead>\n",
       "  <tbody>\n",
       "    <tr>\n",
       "      <td>0.1439</td>\n",
       "      <td>0</td>\n",
       "      <td>1</td>\n",
       "      <td>que dia es hoy</td>\n",
       "      <td>martes el dia de hoy es martes</td>\n",
       "    </tr>\n",
       "    <tr>\n",
       "      <td>0.111</td>\n",
       "      <td>1</td>\n",
       "      <td>2</td>\n",
       "      <td>martes el dia de hoy es martes</td>\n",
       "      <td>martes muchas gracias</td>\n",
       "    </tr>\n",
       "    <tr>\n",
       "      <td>0.0</td>\n",
       "      <td>0</td>\n",
       "      <td>2</td>\n",
       "      <td>que dia es hoy</td>\n",
       "      <td>martes muchas gracias</td>\n",
       "    </tr>\n",
       "  </tbody>\n",
       "</table>"
      ],
      "text/plain": [
       "<IPython.core.display.HTML object>"
      ]
     },
     "execution_count": 12,
     "metadata": {},
     "output_type": "execute_result"
    }
   ],
   "source": [
    "# Ordena y muestra los resultados de la relacion entre documentos\n",
    "from IPython.display import HTML\n",
    "\n",
    "#Muestra el corpus\n",
    "print('Indice de documentos')\n",
    "for i in range(len(corpus)):\n",
    "    print(f'Documento {i} : {corpus[i]}')\n",
    "print('\\n')\n",
    "\n",
    "# Muestra similitud\n",
    "df_compara.sort_values('Similitud', ascending=False, inplace=True)\n",
    "print('Tabla comparativa de similitudes entre documentos')\n",
    "print('* Por simplicidad, para cada par de documentos solo se muestran una combinación')\n",
    "HTML(df_compara.to_html(index=False))"
   ]
  }
 ],
 "metadata": {
  "colab": {
   "authorship_tag": "ABX9TyO5fRYTpympAwJSVbric6dW",
   "collapsed_sections": [],
   "name": "1a - word2vec.ipynb",
   "provenance": []
  },
  "kernelspec": {
   "display_name": "Python 3 (ipykernel)",
   "language": "python",
   "name": "python3"
  },
  "language_info": {
   "codemirror_mode": {
    "name": "ipython",
    "version": 3
   },
   "file_extension": ".py",
   "mimetype": "text/x-python",
   "name": "python",
   "nbconvert_exporter": "python",
   "pygments_lexer": "ipython3",
   "version": "3.9.11"
  }
 },
 "nbformat": 4,
 "nbformat_minor": 1
}
