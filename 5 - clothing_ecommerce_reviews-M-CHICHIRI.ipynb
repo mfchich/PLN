{
 "cells": [
  {
   "cell_type": "markdown",
   "metadata": {
    "id": "kBLpTr7plguX"
   },
   "source": [
    "<img src=\"https://github.com/hernancontigiani/ceia_memorias_especializacion/raw/master/Figures/logoFIUBA.jpg\" width=\"500\" align=\"center\">\n",
    "\n",
    "\n",
    "# Procesamiento de lenguaje natural\n",
    "## Sentiment analysis con Embeddings + LSTM\n",
    "\n",
    "### Marcelo Chichiri"
   ]
  },
  {
   "cell_type": "markdown",
   "metadata": {
    "id": "9W6nuajhlqZD"
   },
   "source": [
    "### Objetivo\n",
    "El objetivo es utilizar las críticas de compradores de ropa para que el sistema determine la evaluación del comprador y su crítica (cuantas estrellas le asigna al producto)."
   ]
  },
  {
   "cell_type": "markdown",
   "metadata": {},
   "source": [
    "Ejercicio \\\n",
    "Utilizar Embeddings + LSTM para clasificar críticas de compradores de ropa.\\\n",
    "Deberá balancear el dataset.\\\n",
    "El accuracy de validación deberá rondar entre los 0.5 y 0.7.\\\n",
    "Pruebe con y sin embeddings pre-entrenados."
   ]
  },
  {
   "cell_type": "code",
   "execution_count": 1,
   "metadata": {
    "id": "i6zvzv3qZ6xS"
   },
   "outputs": [],
   "source": [
    "#!pip install --upgrade --no-cache-dir gdown --quiet"
   ]
  },
  {
   "cell_type": "code",
   "execution_count": 2,
   "metadata": {
    "id": "hCpOVzJdl8_p"
   },
   "outputs": [],
   "source": [
    "import numpy as np\n",
    "import random\n",
    "import io\n",
    "import pickle\n",
    "import pandas as pd\n",
    "\n",
    "import matplotlib.pyplot as plt\n",
    "import seaborn as sns\n",
    "\n",
    "import tensorflow as tf\n",
    "from tensorflow import keras\n",
    "from tensorflow.keras import layers\n",
    "\n",
    "from keras.utils.np_utils import to_categorical\n",
    "#from tensorflow.keras.utils import pad_sequences\n",
    "from keras_preprocessing.sequence import pad_sequences\n",
    "from keras.models import Sequential\n",
    "from keras.layers import Dense\n",
    "from keras.layers import LSTM\n",
    "from keras.layers import Embedding, Bidirectional\n",
    "\n",
    "import time"
   ]
  },
  {
   "cell_type": "code",
   "execution_count": 3,
   "metadata": {},
   "outputs": [],
   "source": [
    "# Procedimiento para ver cantidad y porcentaje de nulos en un dataset\n",
    "def nulos(datax):\n",
    "    suma_nulls = datax.isnull().sum()\n",
    "    porcent_nulls = datax.isnull().sum() * 100 / len(datax)\n",
    "    lista_nulls = pd.DataFrame({'Feature': datax.columns, 'suma_nulls': suma_nulls, 'nulls (%)': round(porcent_nulls, 2)})\n",
    "    return lista_nulls.sort_values('suma_nulls') "
   ]
  },
  {
   "cell_type": "code",
   "execution_count": 4,
   "metadata": {},
   "outputs": [],
   "source": [
    "from sklearn.metrics import roc_curve\n",
    "from sklearn.metrics import auc\n",
    "\n",
    "def curva_roc(model, X_test, y_test):\n",
    "    y_hat_prob = model.predict(X_test).ravel()\n",
    "\n",
    "    # Calcular la exactitud (accuracy)\n",
    "    scores = model.evaluate(X_test, y_test)\n",
    "    print(\"Accuracy:\", scores[1])\n",
    "\n",
    "    fpr, tpr, thresholds = roc_curve(y_test, y_hat_prob)\n",
    "    auc_keras = auc(fpr, tpr)\n",
    "    print('auc_keras', auc_keras)\n",
    "\n",
    "    plt.figure(1)\n",
    "    plt.plot([0, 1], [0, 1], 'k--')\n",
    "    plt.plot(fpr, tpr, label='Keras (area = {:.3f})'.format(auc_keras))\n",
    "    plt.xlabel('False positive rate')\n",
    "    plt.ylabel('True positive rate')\n",
    "    plt.title('Curva ROC test')\n",
    "    plt.legend(loc='best')\n",
    "    plt.show()"
   ]
  },
  {
   "cell_type": "markdown",
   "metadata": {
    "id": "8UPeRkrAmbF3"
   },
   "source": [
    "### Datos\n",
    "Utilizaremos como dataset críticas de compradores de ropa (eCommerce) los cuales puntuaron a cada prenda con un puntaje de 1 a 5 estrellas.\\\n",
    "Referencia del dataset: [LINK](https://www.kaggle.com/nicapotato/womens-ecommerce-clothing-reviews/version/1)"
   ]
  },
  {
   "cell_type": "code",
   "execution_count": 5,
   "metadata": {
    "id": "C7jLvTU3lSyL"
   },
   "outputs": [
    {
     "name": "stdout",
     "output_type": "stream",
     "text": [
      "El dataset ya se encuentra descargado\n"
     ]
    }
   ],
   "source": [
    "# Descargar la carpeta de dataset\n",
    "\n",
    "import os\n",
    "import gdown\n",
    "if os.access('clothing_ecommerce_reviews.csv', os.F_OK) is False:\n",
    "    url = 'https://drive.google.com/uc?id=1Urn1UFSrodN5BuW6-sc_igtaySGRwhV8'\n",
    "    output = 'clothing_ecommerce_reviews.csv'\n",
    "    gdown.download(url, output, quiet=False)\n",
    "else:\n",
    "    print(\"El dataset ya se encuentra descargado\")"
   ]
  },
  {
   "cell_type": "code",
   "execution_count": 6,
   "metadata": {
    "id": "o-SV1P3dnD1J"
   },
   "outputs": [
    {
     "data": {
      "text/html": [
       "<div>\n",
       "<style scoped>\n",
       "    .dataframe tbody tr th:only-of-type {\n",
       "        vertical-align: middle;\n",
       "    }\n",
       "\n",
       "    .dataframe tbody tr th {\n",
       "        vertical-align: top;\n",
       "    }\n",
       "\n",
       "    .dataframe thead th {\n",
       "        text-align: right;\n",
       "    }\n",
       "</style>\n",
       "<table border=\"1\" class=\"dataframe\">\n",
       "  <thead>\n",
       "    <tr style=\"text-align: right;\">\n",
       "      <th></th>\n",
       "      <th>Clothing ID</th>\n",
       "      <th>Age</th>\n",
       "      <th>Title</th>\n",
       "      <th>Review Text</th>\n",
       "      <th>Rating</th>\n",
       "      <th>Recommended IND</th>\n",
       "      <th>Positive Feedback Count</th>\n",
       "      <th>Division Name</th>\n",
       "      <th>Department Name</th>\n",
       "      <th>Class Name</th>\n",
       "    </tr>\n",
       "  </thead>\n",
       "  <tbody>\n",
       "    <tr>\n",
       "      <th>0</th>\n",
       "      <td>767</td>\n",
       "      <td>33</td>\n",
       "      <td>NaN</td>\n",
       "      <td>Absolutely wonderful - silky and sexy and comf...</td>\n",
       "      <td>4</td>\n",
       "      <td>1</td>\n",
       "      <td>0</td>\n",
       "      <td>Initmates</td>\n",
       "      <td>Intimate</td>\n",
       "      <td>Intimates</td>\n",
       "    </tr>\n",
       "    <tr>\n",
       "      <th>1</th>\n",
       "      <td>1080</td>\n",
       "      <td>34</td>\n",
       "      <td>NaN</td>\n",
       "      <td>Love this dress!  it's sooo pretty.  i happene...</td>\n",
       "      <td>5</td>\n",
       "      <td>1</td>\n",
       "      <td>4</td>\n",
       "      <td>General</td>\n",
       "      <td>Dresses</td>\n",
       "      <td>Dresses</td>\n",
       "    </tr>\n",
       "    <tr>\n",
       "      <th>2</th>\n",
       "      <td>1077</td>\n",
       "      <td>60</td>\n",
       "      <td>Some major design flaws</td>\n",
       "      <td>I had such high hopes for this dress and reall...</td>\n",
       "      <td>3</td>\n",
       "      <td>0</td>\n",
       "      <td>0</td>\n",
       "      <td>General</td>\n",
       "      <td>Dresses</td>\n",
       "      <td>Dresses</td>\n",
       "    </tr>\n",
       "    <tr>\n",
       "      <th>3</th>\n",
       "      <td>1049</td>\n",
       "      <td>50</td>\n",
       "      <td>My favorite buy!</td>\n",
       "      <td>I love, love, love this jumpsuit. it's fun, fl...</td>\n",
       "      <td>5</td>\n",
       "      <td>1</td>\n",
       "      <td>0</td>\n",
       "      <td>General Petite</td>\n",
       "      <td>Bottoms</td>\n",
       "      <td>Pants</td>\n",
       "    </tr>\n",
       "    <tr>\n",
       "      <th>4</th>\n",
       "      <td>847</td>\n",
       "      <td>47</td>\n",
       "      <td>Flattering shirt</td>\n",
       "      <td>This shirt is very flattering to all due to th...</td>\n",
       "      <td>5</td>\n",
       "      <td>1</td>\n",
       "      <td>6</td>\n",
       "      <td>General</td>\n",
       "      <td>Tops</td>\n",
       "      <td>Blouses</td>\n",
       "    </tr>\n",
       "  </tbody>\n",
       "</table>\n",
       "</div>"
      ],
      "text/plain": [
       "   Clothing ID  Age                    Title  \\\n",
       "0          767   33                      NaN   \n",
       "1         1080   34                      NaN   \n",
       "2         1077   60  Some major design flaws   \n",
       "3         1049   50         My favorite buy!   \n",
       "4          847   47         Flattering shirt   \n",
       "\n",
       "                                         Review Text  Rating  Recommended IND  \\\n",
       "0  Absolutely wonderful - silky and sexy and comf...       4                1   \n",
       "1  Love this dress!  it's sooo pretty.  i happene...       5                1   \n",
       "2  I had such high hopes for this dress and reall...       3                0   \n",
       "3  I love, love, love this jumpsuit. it's fun, fl...       5                1   \n",
       "4  This shirt is very flattering to all due to th...       5                1   \n",
       "\n",
       "   Positive Feedback Count   Division Name Department Name Class Name  \n",
       "0                        0       Initmates        Intimate  Intimates  \n",
       "1                        4         General         Dresses    Dresses  \n",
       "2                        0         General         Dresses    Dresses  \n",
       "3                        0  General Petite         Bottoms      Pants  \n",
       "4                        6         General            Tops    Blouses  "
      ]
     },
     "execution_count": 6,
     "metadata": {},
     "output_type": "execute_result"
    }
   ],
   "source": [
    "# Armar el dataset\n",
    "\n",
    "df = pd.read_csv('clothing_ecommerce_reviews.csv')\n",
    "df.drop(columns = ['Unnamed: 0'], inplace = True)\n",
    "df.head()"
   ]
  },
  {
   "cell_type": "markdown",
   "metadata": {
    "id": "q-OwSePKm-FK"
   },
   "source": [
    "### 1 - Limpieza de datos\n",
    "Alumno:\n",
    "- Del dataset unicamente utilizar las columnas \"Review Text\" y \"Rating.\n",
    "- Tranformar el rating 1-5 a una escala numérica de 0 a 4.\n",
    "\n"
   ]
  },
  {
   "cell_type": "code",
   "execution_count": 7,
   "metadata": {
    "id": "-hc7-AmYnPC3"
   },
   "outputs": [
    {
     "data": {
      "text/html": [
       "<div>\n",
       "<style scoped>\n",
       "    .dataframe tbody tr th:only-of-type {\n",
       "        vertical-align: middle;\n",
       "    }\n",
       "\n",
       "    .dataframe tbody tr th {\n",
       "        vertical-align: top;\n",
       "    }\n",
       "\n",
       "    .dataframe thead th {\n",
       "        text-align: right;\n",
       "    }\n",
       "</style>\n",
       "<table border=\"1\" class=\"dataframe\">\n",
       "  <thead>\n",
       "    <tr style=\"text-align: right;\">\n",
       "      <th></th>\n",
       "      <th>Review Text</th>\n",
       "      <th>Rating</th>\n",
       "    </tr>\n",
       "  </thead>\n",
       "  <tbody>\n",
       "    <tr>\n",
       "      <th>0</th>\n",
       "      <td>Absolutely wonderful - silky and sexy and comf...</td>\n",
       "      <td>3</td>\n",
       "    </tr>\n",
       "    <tr>\n",
       "      <th>1</th>\n",
       "      <td>Love this dress!  it's sooo pretty.  i happene...</td>\n",
       "      <td>4</td>\n",
       "    </tr>\n",
       "    <tr>\n",
       "      <th>2</th>\n",
       "      <td>I had such high hopes for this dress and reall...</td>\n",
       "      <td>2</td>\n",
       "    </tr>\n",
       "    <tr>\n",
       "      <th>3</th>\n",
       "      <td>I love, love, love this jumpsuit. it's fun, fl...</td>\n",
       "      <td>4</td>\n",
       "    </tr>\n",
       "    <tr>\n",
       "      <th>4</th>\n",
       "      <td>This shirt is very flattering to all due to th...</td>\n",
       "      <td>4</td>\n",
       "    </tr>\n",
       "  </tbody>\n",
       "</table>\n",
       "</div>"
      ],
      "text/plain": [
       "                                         Review Text  Rating\n",
       "0  Absolutely wonderful - silky and sexy and comf...       3\n",
       "1  Love this dress!  it's sooo pretty.  i happene...       4\n",
       "2  I had such high hopes for this dress and reall...       2\n",
       "3  I love, love, love this jumpsuit. it's fun, fl...       4\n",
       "4  This shirt is very flattering to all due to th...       4"
      ]
     },
     "execution_count": 7,
     "metadata": {},
     "output_type": "execute_result"
    }
   ],
   "source": [
    "# Muestro el dataset\n",
    "\n",
    "df_reviews = df.loc[:, ['Review Text', 'Rating']].dropna()\n",
    "df_reviews['Rating'] = df_reviews['Rating'] - 1\n",
    "df_reviews.head()"
   ]
  },
  {
   "cell_type": "code",
   "execution_count": 8,
   "metadata": {},
   "outputs": [
    {
     "data": {
      "text/html": [
       "<div>\n",
       "<style scoped>\n",
       "    .dataframe tbody tr th:only-of-type {\n",
       "        vertical-align: middle;\n",
       "    }\n",
       "\n",
       "    .dataframe tbody tr th {\n",
       "        vertical-align: top;\n",
       "    }\n",
       "\n",
       "    .dataframe thead th {\n",
       "        text-align: right;\n",
       "    }\n",
       "</style>\n",
       "<table border=\"1\" class=\"dataframe\">\n",
       "  <thead>\n",
       "    <tr style=\"text-align: right;\">\n",
       "      <th></th>\n",
       "      <th>Feature</th>\n",
       "      <th>suma_nulls</th>\n",
       "      <th>nulls (%)</th>\n",
       "    </tr>\n",
       "  </thead>\n",
       "  <tbody>\n",
       "    <tr>\n",
       "      <th>Review Text</th>\n",
       "      <td>Review Text</td>\n",
       "      <td>0</td>\n",
       "      <td>0.0</td>\n",
       "    </tr>\n",
       "    <tr>\n",
       "      <th>Rating</th>\n",
       "      <td>Rating</td>\n",
       "      <td>0</td>\n",
       "      <td>0.0</td>\n",
       "    </tr>\n",
       "  </tbody>\n",
       "</table>\n",
       "</div>"
      ],
      "text/plain": [
       "                 Feature  suma_nulls  nulls (%)\n",
       "Review Text  Review Text           0        0.0\n",
       "Rating            Rating           0        0.0"
      ]
     },
     "execution_count": 8,
     "metadata": {},
     "output_type": "execute_result"
    }
   ],
   "source": [
    "# Muestro si hay nulos\n",
    "\n",
    "nulos(df_reviews)"
   ]
  },
  {
   "cell_type": "code",
   "execution_count": 9,
   "metadata": {},
   "outputs": [
    {
     "name": "stdout",
     "output_type": "stream",
     "text": [
      "   cantidad        (%)\n",
      "4     12540  55.386246\n",
      "3      4908  21.677488\n",
      "2      2823  12.468531\n",
      "1      1549   6.841571\n",
      "0       821   3.626165\n"
     ]
    }
   ],
   "source": [
    "# Se analiza el balance de la salida\n",
    "\n",
    "clases = df_reviews.Rating.value_counts()\n",
    "clases_porciento = df_reviews.Rating.value_counts() * 100 /len(df_reviews)\n",
    "\n",
    "#print(pd.DataFrame({'Dias': dias_de_lluvia, '(%)': dias_de_lluvia_porciento}))\n",
    "print(pd.DataFrame({'cantidad': clases, '(%)': clases_porciento}))"
   ]
  },
  {
   "cell_type": "code",
   "execution_count": 10,
   "metadata": {
    "id": "sZtvASVOn3ty"
   },
   "outputs": [
    {
     "data": {
      "image/png": "[encoded data removed]",
      "text/plain": [
       "<Figure size 432x288 with 1 Axes>"
      ]
     },
     "metadata": {
      "needs_background": "light"
     },
     "output_type": "display_data"
    }
   ],
   "source": [
    "# Alumno: Observar como está distribuido el dataset respecto a la columna Rating\n",
    "# es decir, observar que tan balanceado se encuentra respecot a cada clase\n",
    "# Observar como está distribuido el dataset\n",
    "\n",
    "sns.countplot(x='Rating', data=df_reviews)\n",
    "plt.show()"
   ]
  },
  {
   "cell_type": "code",
   "execution_count": 11,
   "metadata": {},
   "outputs": [
    {
     "name": "stderr",
     "output_type": "stream",
     "text": [
      "C:\\Users\\Marcelo\\AppData\\Local\\Temp\\ipykernel_23920\\1684641606.py:5: SettingWithCopyWarning: \n",
      "A value is trying to be set on a copy of a slice from a DataFrame\n",
      "\n",
      "See the caveats in the documentation: https://pandas.pydata.org/pandas-docs/stable/user_guide/indexing.html#returning-a-view-versus-a-copy\n",
      "  df_reviews.Rating.loc[df_reviews.Rating == 1] = 0\n",
      "C:\\Users\\Marcelo\\AppData\\Local\\Temp\\ipykernel_23920\\1684641606.py:6: SettingWithCopyWarning: \n",
      "A value is trying to be set on a copy of a slice from a DataFrame\n",
      "\n",
      "See the caveats in the documentation: https://pandas.pydata.org/pandas-docs/stable/user_guide/indexing.html#returning-a-view-versus-a-copy\n",
      "  df_reviews.Rating.loc[df_reviews.Rating == 2] = 1\n",
      "C:\\Users\\Marcelo\\AppData\\Local\\Temp\\ipykernel_23920\\1684641606.py:7: SettingWithCopyWarning: \n",
      "A value is trying to be set on a copy of a slice from a DataFrame\n",
      "\n",
      "See the caveats in the documentation: https://pandas.pydata.org/pandas-docs/stable/user_guide/indexing.html#returning-a-view-versus-a-copy\n",
      "  df_reviews.Rating.loc[df_reviews.Rating == 3] = 1\n",
      "C:\\Users\\Marcelo\\AppData\\Local\\Temp\\ipykernel_23920\\1684641606.py:8: SettingWithCopyWarning: \n",
      "A value is trying to be set on a copy of a slice from a DataFrame\n",
      "\n",
      "See the caveats in the documentation: https://pandas.pydata.org/pandas-docs/stable/user_guide/indexing.html#returning-a-view-versus-a-copy\n",
      "  df_reviews.Rating.loc[df_reviews.Rating == 4] = 2\n"
     ]
    }
   ],
   "source": [
    "# Se reduce la cantidad de clases de salida agrupando los valores originales para ecualizar un poco el dataset\n",
    "#  en 0 y 1 -> clase 0 \n",
    "#  en 2 y 3 -> clase 1 \n",
    "#  la clase 4 queda igual \n",
    "df_reviews.Rating.loc[df_reviews.Rating == 1] = 0\n",
    "df_reviews.Rating.loc[df_reviews.Rating == 2] = 1\n",
    "df_reviews.Rating.loc[df_reviews.Rating == 3] = 1\n",
    "df_reviews.Rating.loc[df_reviews.Rating == 4] = 2\n"
   ]
  },
  {
   "cell_type": "code",
   "execution_count": 12,
   "metadata": {},
   "outputs": [
    {
     "name": "stdout",
     "output_type": "stream",
     "text": [
      "   cantidad        (%)\n",
      "2     12540  55.386246\n",
      "1      7731  34.146018\n",
      "0      2370  10.467736\n"
     ]
    }
   ],
   "source": [
    "# Se analiza el balance de la salida\n",
    "\n",
    "clases = df_reviews.Rating.value_counts()\n",
    "clases_porciento = df_reviews.Rating.value_counts() * 100 /len(df_reviews)\n",
    "\n",
    "#print(pd.DataFrame({'Dias': dias_de_lluvia, '(%)': dias_de_lluvia_porciento}))\n",
    "print(pd.DataFrame({'cantidad': clases, '(%)': clases_porciento}))"
   ]
  },
  {
   "cell_type": "code",
   "execution_count": 13,
   "metadata": {},
   "outputs": [
    {
     "data": {
      "image/png": "[encoded data removed]",
      "text/plain": [
       "<Figure size 432x288 with 1 Axes>"
      ]
     },
     "metadata": {
      "needs_background": "light"
     },
     "output_type": "display_data"
    }
   ],
   "source": [
    "# Alumno: Observar como está distribuido el dataset respecto a la columna Rating\n",
    "# es decir, observar que tan balanceado se encuentra respecot a cada clase\n",
    "# Observar como está distribuido el dataset\n",
    "\n",
    "sns.countplot(x='Rating', data=df_reviews)\n",
    "plt.show()"
   ]
  },
  {
   "cell_type": "code",
   "execution_count": 14,
   "metadata": {},
   "outputs": [
    {
     "name": "stdout",
     "output_type": "stream",
     "text": [
      "Ejemplo de clase 0\n"
     ]
    },
    {
     "data": {
      "text/plain": [
       "5     I love tracy reese dresses, but this one is no...\n",
       "22    First of all, this is not pullover styling. th...\n",
       "26    I have been waiting for this sweater coat to s...\n",
       "33    I ordered this 3 months ago, and it finally ca...\n",
       "56    I am pregnant and i thought this would be a gr...\n",
       "61    3 tags sewn in, 2 small (about 1'' long) and 1...\n",
       "68    I really loved this top online and wanted to l...\n",
       "71    Why do designers keep making crop tops??!! i c...\n",
       "77    The zipper broke on this piece the first time ...\n",
       "85    I was really hoping to like this, but it did n...\n",
       "Name: Review Text, dtype: object"
      ]
     },
     "execution_count": 14,
     "metadata": {},
     "output_type": "execute_result"
    }
   ],
   "source": [
    "# Ejemplos de clase 0\n",
    "print('Ejemplo de clase 0')\n",
    "df_reviews['Review Text'].loc[df_reviews.Rating == 0][0:10]"
   ]
  },
  {
   "cell_type": "code",
   "execution_count": 15,
   "metadata": {},
   "outputs": [
    {
     "name": "stdout",
     "output_type": "stream",
     "text": [
      "Ejemplo de clase 1\n"
     ]
    },
    {
     "data": {
      "text/plain": [
       "0     Absolutely wonderful - silky and sexy and comf...\n",
       "2     I had such high hopes for this dress and reall...\n",
       "7     I ordered this in carbon for store pick up, an...\n",
       "10    Dress runs small esp where the zipper area run...\n",
       "14    This is a nice choice for holiday gatherings. ...\n",
       "15    I took these out of the package and wanted the...\n",
       "16    Material and color is nice.  the leg opening i...\n",
       "20    If this product was in petite, i would get the...\n",
       "21    I'm upset because for the price of the dress, ...\n",
       "23    Cute little dress fits tts. it is a little hig...\n",
       "Name: Review Text, dtype: object"
      ]
     },
     "execution_count": 15,
     "metadata": {},
     "output_type": "execute_result"
    }
   ],
   "source": [
    "# Ejemplos de clase 1\n",
    "print('Ejemplo de clase 1')\n",
    "df_reviews['Review Text'].loc[df_reviews.Rating == 1][0:10]"
   ]
  },
  {
   "cell_type": "code",
   "execution_count": 16,
   "metadata": {},
   "outputs": [
    {
     "name": "stdout",
     "output_type": "stream",
     "text": [
      "Ejemplo de clase 2\n"
     ]
    },
    {
     "data": {
      "text/plain": [
       "1     Love this dress!  it's sooo pretty.  i happene...\n",
       "3     I love, love, love this jumpsuit. it's fun, fl...\n",
       "4     This shirt is very flattering to all due to th...\n",
       "6     I aded this in my basket at hte last mintue to...\n",
       "8     I love this dress. i usually get an xs but it ...\n",
       "9     I'm 5\"5' and 125 lbs. i ordered the s petite t...\n",
       "11    This dress is perfection! so pretty and flatte...\n",
       "12    More and more i find myself reliant on the rev...\n",
       "13    Bought the black xs to go under the larkspur m...\n",
       "17    Took a chance on this blouse and so glad i did...\n",
       "Name: Review Text, dtype: object"
      ]
     },
     "execution_count": 16,
     "metadata": {},
     "output_type": "execute_result"
    }
   ],
   "source": [
    "# Ejemplos de clase 2\n",
    "print('Ejemplo de clase 2')\n",
    "df_reviews['Review Text'].loc[df_reviews.Rating == 2][0:10]"
   ]
  },
  {
   "cell_type": "code",
   "execution_count": 17,
   "metadata": {
    "id": "gVJ_RVi4o1h3"
   },
   "outputs": [
    {
     "data": {
      "text/plain": [
       "(22641,)"
      ]
     },
     "execution_count": 17,
     "metadata": {},
     "output_type": "execute_result"
    }
   ],
   "source": [
    "# Alumno: tomar la columna de las review y almacenarlo todo en un vector numpy de reviews\n",
    "\n",
    "text_sequences = df_reviews['Review Text'].values\n",
    "text_sequences.shape"
   ]
  },
  {
   "cell_type": "code",
   "execution_count": 18,
   "metadata": {
    "id": "4nT5Un_co65Q"
   },
   "outputs": [
    {
     "name": "stdout",
     "output_type": "stream",
     "text": [
      "Hay 22641 filas para evaluar\n"
     ]
    }
   ],
   "source": [
    "# Alumno: Cuantas reviews (rows) hay para evaluar?\n",
    "\n",
    "print(f'Hay {len(text_sequences)} filas para evaluar')"
   ]
  },
  {
   "cell_type": "code",
   "execution_count": 19,
   "metadata": {
    "id": "HP5uN9tqpHu_"
   },
   "outputs": [],
   "source": [
    "# Alumno: Concatenar todas las reviews para armar el corpus\n",
    "\n",
    "corpus = ' '.join(text_sequences)"
   ]
  },
  {
   "cell_type": "code",
   "execution_count": 20,
   "metadata": {
    "id": "FEzmePgdpf74"
   },
   "outputs": [
    {
     "name": "stdout",
     "output_type": "stream",
     "text": [
      "La longitud del corpus es 7011643\n"
     ]
    }
   ],
   "source": [
    "# Alumno: ¿Cuál es la longitud de ese corpus?\n",
    "\n",
    "print(f'La longitud del corpus es {len(corpus)}')"
   ]
  },
  {
   "cell_type": "code",
   "execution_count": 21,
   "metadata": {
    "id": "MYeJLdDmpvOe"
   },
   "outputs": [],
   "source": [
    "# Alumno: Utilizar \"text_to_word_sequence\" para separar las palabras en tokens\n",
    "# recordar que text_to_word_sequence automaticamente quita los signos de puntuacion y pasa el texto a lowercase\n",
    "\n",
    "from keras.preprocessing.text import text_to_word_sequence\n",
    "tokens = text_to_word_sequence(corpus)"
   ]
  },
  {
   "cell_type": "code",
   "execution_count": 22,
   "metadata": {
    "id": "M6L-fnWAp_lA"
   },
   "outputs": [
    {
     "name": "stdout",
     "output_type": "stream",
     "text": [
      "** primeros 20 tokens **\n"
     ]
    },
    {
     "data": {
      "text/plain": [
       "['absolutely',\n",
       " 'wonderful',\n",
       " 'silky',\n",
       " 'and',\n",
       " 'sexy',\n",
       " 'and',\n",
       " 'comfortable',\n",
       " 'love',\n",
       " 'this',\n",
       " 'dress',\n",
       " \"it's\",\n",
       " 'sooo',\n",
       " 'pretty',\n",
       " 'i',\n",
       " 'happened',\n",
       " 'to',\n",
       " 'find',\n",
       " 'it',\n",
       " 'in',\n",
       " 'a']"
      ]
     },
     "execution_count": 22,
     "metadata": {},
     "output_type": "execute_result"
    }
   ],
   "source": [
    "# Alumno: Dar un vistazo a los primeros 20 tokens/palabras\n",
    "\n",
    "print('** primeros 20 tokens **')\n",
    "tokens[:20]"
   ]
  },
  {
   "cell_type": "code",
   "execution_count": 23,
   "metadata": {
    "id": "-8QgwwMUqG0d"
   },
   "outputs": [
    {
     "name": "stdout",
     "output_type": "stream",
     "text": [
      "Hay 1372203 tokens en el corpus\n"
     ]
    }
   ],
   "source": [
    "# Alumno: ¿Cuántos tokens/palabras hay?\n",
    "\n",
    "print(f'Hay {len(tokens)} tokens en el corpus')"
   ]
  },
  {
   "cell_type": "code",
   "execution_count": 24,
   "metadata": {
    "id": "TFukNZdOsZ8_"
   },
   "outputs": [],
   "source": [
    "# Alumno: Tokenizar las palabras con el Tokenizer de Keras\n",
    "# Definir una máxima cantidad de palabras a utilizar:\n",
    "# num_words --> the maximum number of words to keep, based on word frequency.\n",
    "# Only the most common num_words-1 words will be kept.\n",
    "\n",
    "from keras.preprocessing.text import Tokenizer\n",
    "num_words = 2000\n",
    "vocab_size = num_words\n",
    "tok = Tokenizer(num_words=2000) \n",
    "tok.fit_on_texts(tokens)\n"
   ]
  },
  {
   "cell_type": "code",
   "execution_count": 25,
   "metadata": {
    "id": "JnR1tlqZy94X"
   },
   "outputs": [
    {
     "name": "stdout",
     "output_type": "stream",
     "text": [
      "Hay 14847 palabras en el vocabulario\n"
     ]
    }
   ],
   "source": [
    "# Alumno: Obtener el diccionario de palabra (word) a índice\n",
    "# y observar la cantidad total del vocabulario\n",
    "\n",
    "word_index = tok.word_index\n",
    "print(f'Hay {len(word_index)} palabras en el vocabulario')"
   ]
  },
  {
   "cell_type": "code",
   "execution_count": 26,
   "metadata": {
    "id": "AvWzzSretQXf"
   },
   "outputs": [],
   "source": [
    "# Alumno: Convertir las palabras/tokens a números\n",
    "\n",
    "sequences = tok.texts_to_sequences(text_sequences)"
   ]
  },
  {
   "cell_type": "code",
   "execution_count": 27,
   "metadata": {
    "id": "za73M5SRtbrP"
   },
   "outputs": [
    {
     "name": "stdout",
     "output_type": "stream",
     "text": [
      "La oración mas larga tiene 115 palabas\n"
     ]
    }
   ],
   "source": [
    "# Alumno: Determinar cual es la oración más larga\n",
    "\n",
    "print(f'La oración mas larga tiene {max(len(s) for s in sequences)} palabas')"
   ]
  },
  {
   "cell_type": "code",
   "execution_count": 28,
   "metadata": {
    "id": "oCkO9Wc9tls1"
   },
   "outputs": [],
   "source": [
    "# Alumno: Realizar padding de las sentencias al mismo tamaño\n",
    "# tomando de referencia la máxima sentencia\n",
    "#from tensorflow.keras.utils import pad_sequences\n",
    "\n",
    "maxlen = 115\n",
    "\n",
    "# Al realizar padding obtener la variable \"X\" (input)\n",
    "\n",
    "X = pad_sequences(sequences, padding='pre', maxlen=maxlen)"
   ]
  },
  {
   "cell_type": "code",
   "execution_count": 29,
   "metadata": {
    "id": "kGHHabVdt_aa"
   },
   "outputs": [
    {
     "data": {
      "text/plain": [
       "(22641, 115)"
      ]
     },
     "execution_count": 29,
     "metadata": {},
     "output_type": "execute_result"
    }
   ],
   "source": [
    "# Alumno: Observar las dimensiones de la variable input\n",
    "\n",
    "X.shape"
   ]
  },
  {
   "cell_type": "code",
   "execution_count": 30,
   "metadata": {
    "id": "llVM-tzQo9_F"
   },
   "outputs": [
    {
     "name": "stdout",
     "output_type": "stream",
     "text": [
      "Mínimo valor de y : 0, máximo valor de y : 2\n",
      "10 primeros valores de y sin onehot : \n",
      "[2 1 2 2 0 2 1 2 2]\n",
      "10 primeros valores de y con onehot : \n",
      "[[0. 0. 1.]\n",
      " [0. 1. 0.]\n",
      " [0. 0. 1.]\n",
      " [0. 0. 1.]\n",
      " [1. 0. 0.]\n",
      " [0. 0. 1.]\n",
      " [0. 1. 0.]\n",
      " [0. 0. 1.]\n",
      " [0. 0. 1.]]\n"
     ]
    }
   ],
   "source": [
    "# Alumno tomar la columna rating y alcemacenarla en una variable \"y\" transformada a oneHotEncoding\n",
    "# Su shape debe ser equivalente la cantidad de rows del corpus y a la cantidad\n",
    "# de clases que se deseen predecir (en este ejemplo son 5)\n",
    "\n",
    "# Tomar la columna rating y alcemacenarla en una variable \"y\"\n",
    "# Su shape debe ser equivalente la cantidad de rows del corpus\n",
    "\n",
    "y = df_reviews['Rating'].values\n",
    "print(f'Mínimo valor de y : {np.min(y)}, máximo valor de y : {np.max(y)}')\n",
    "print(f'10 primeros valores de y sin onehot : \\n{y[1:10]}')\n",
    "y = to_categorical(y, num_classes=3)\n",
    "print(f'10 primeros valores de y con onehot : \\n{y[1:10]}')\n"
   ]
  },
  {
   "cell_type": "code",
   "execution_count": 31,
   "metadata": {
    "id": "Rmz9A6n4uK4V"
   },
   "outputs": [],
   "source": [
    "# Alumno: Dividir los datos en train y test\n",
    "\n",
    "from sklearn.model_selection import train_test_split\n",
    "X_train, X_test, y_train, y_test = train_test_split(X, y, test_size=0.2, random_state=42)"
   ]
  },
  {
   "cell_type": "code",
   "execution_count": 32,
   "metadata": {
    "id": "EcDPlhEouQ9E"
   },
   "outputs": [
    {
     "name": "stdout",
     "output_type": "stream",
     "text": [
      "in_shape 115 , out_shape 3\n"
     ]
    }
   ],
   "source": [
    "# Alumno: determinar la dimensiones de entrada y salida\n",
    "\n",
    "in_shape = X_train.shape[1] # max input sentence len\n",
    "out_shape = 3 # clalificación de 0 a 4\n",
    "print(\"in_shape\", in_shape, \", out_shape\", out_shape)"
   ]
  },
  {
   "cell_type": "code",
   "execution_count": 33,
   "metadata": {},
   "outputs": [
    {
     "name": "stdout",
     "output_type": "stream",
     "text": [
      "X Train :  (18112, 115)\n",
      "X Test  :  (4529, 115)\n",
      "Y Train :  (18112, 3)\n",
      "Y Test  :  (4529, 3)\n"
     ]
    }
   ],
   "source": [
    "print(\"X Train : \", X_train.shape)\n",
    "print(\"X Test  : \", X_test.shape)\n",
    "print(\"Y Train : \", y_train.shape)\n",
    "print(\"Y Test  : \", y_test.shape)"
   ]
  },
  {
   "cell_type": "markdown",
   "metadata": {
    "id": "NpbQHExL6OTu"
   },
   "source": [
    "### 2 - Entrenar el modelo con Embeddings + LSTM"
   ]
  },
  {
   "cell_type": "code",
   "execution_count": 34,
   "metadata": {
    "id": "NUkuWBsM6cx3"
   },
   "outputs": [],
   "source": [
    "# Alumno: Entrene su modelo con LSTM entrenando sus propios embeddings\n",
    "# o utilizando embeddings pre-entrenados.\n",
    "\n",
    "from keras.layers import LSTM\n",
    "from keras.layers import Embedding\n",
    "from keras.layers import Dropout"
   ]
  },
  {
   "cell_type": "code",
   "execution_count": 35,
   "metadata": {
    "scrolled": true
   },
   "outputs": [
    {
     "name": "stdout",
     "output_type": "stream",
     "text": [
      "Model: \"sequential\"\n",
      "_________________________________________________________________\n",
      " Layer (type)                Output Shape              Param #   \n",
      "=================================================================\n",
      " embedding (Embedding)       (None, 115, 300)          600300    \n",
      "                                                                 \n",
      " bidirectional (Bidirectiona  (None, 115, 16)          19776     \n",
      " l)                                                              \n",
      "                                                                 \n",
      " dropout (Dropout)           (None, 115, 16)           0         \n",
      "                                                                 \n",
      " bidirectional_1 (Bidirectio  (None, 32)               4224      \n",
      " nal)                                                            \n",
      "                                                                 \n",
      " dense (Dense)               (None, 32)                1056      \n",
      "                                                                 \n",
      " dropout_1 (Dropout)         (None, 32)                0         \n",
      "                                                                 \n",
      " dense_1 (Dense)             (None, 3)                 99        \n",
      "                                                                 \n",
      "=================================================================\n",
      "Total params: 625,455\n",
      "Trainable params: 625,455\n",
      "Non-trainable params: 0\n",
      "_________________________________________________________________\n"
     ]
    }
   ],
   "source": [
    "model = Sequential()\n",
    "# input_dim = vocab_size (max n_words)\n",
    "# input_length = setencias con padding a 200\n",
    "# output_dim = 50 --> crear embeddings de tamaño 50\n",
    "\n",
    "model.add(Embedding(input_dim=vocab_size+1, output_dim=300, input_length=in_shape))\n",
    "model.add(Bidirectional(LSTM(units=8, return_sequences=True)))\n",
    "model.add(Dropout(0.6))\n",
    "model.add(Bidirectional(LSTM(units=16))) # La última capa LSTM no lleva return_sequences\n",
    "\n",
    "model.add(Dense(units=32, activation='relu'))\n",
    "model.add(Dropout(rate=0.9))\n",
    "model.add(Dense(units=out_shape, activation='sigmoid'))\n",
    "\n",
    "model.compile(optimizer=\"adam\",\n",
    "              loss='binary_crossentropy',\n",
    "              metrics=['accuracy'])\n",
    "\n",
    "model.summary()"
   ]
  },
  {
   "cell_type": "code",
   "execution_count": 36,
   "metadata": {},
   "outputs": [
    {
     "name": "stdout",
     "output_type": "stream",
     "text": [
      "You must install pydot (`pip install pydot`) and install graphviz (see instructions at https://graphviz.gitlab.io/download/) for plot_model/model_to_dot to work.\n"
     ]
    }
   ],
   "source": [
    "from keras.utils.vis_utils import plot_model\n",
    "plot_model(model, to_file='model_plot.png', show_shapes=True, show_layer_names=True)"
   ]
  },
  {
   "cell_type": "code",
   "execution_count": 37,
   "metadata": {},
   "outputs": [],
   "source": [
    "# Se inicia la medición de tiempo de entrenamiento\n",
    "inicio = time.time()"
   ]
  },
  {
   "cell_type": "code",
   "execution_count": 38,
   "metadata": {
    "scrolled": true
   },
   "outputs": [
    {
     "name": "stdout",
     "output_type": "stream",
     "text": [
      "Epoch 1/5\n",
      "453/453 [==============================] - 37s 71ms/step - loss: 0.5751 - accuracy: 0.5641 - val_loss: 0.4588 - val_accuracy: 0.6831\n",
      "Epoch 2/5\n",
      "453/453 [==============================] - 33s 74ms/step - loss: 0.5017 - accuracy: 0.6374 - val_loss: 0.4414 - val_accuracy: 0.6851\n",
      "Epoch 3/5\n",
      "453/453 [==============================] - 39s 85ms/step - loss: 0.4753 - accuracy: 0.6611 - val_loss: 0.4225 - val_accuracy: 0.6947\n",
      "Epoch 4/5\n",
      "453/453 [==============================] - 36s 80ms/step - loss: 0.4505 - accuracy: 0.6829 - val_loss: 0.4298 - val_accuracy: 0.6903\n",
      "Epoch 5/5\n",
      "453/453 [==============================] - 36s 80ms/step - loss: 0.4361 - accuracy: 0.6991 - val_loss: 0.4229 - val_accuracy: 0.6922\n"
     ]
    }
   ],
   "source": [
    "# Se entrena el modelo\n",
    "# Se usan 5 epocas porque se vio que despues de la quinta epoca el accuracy deja de incrementarse\n",
    "hist = model.fit(X_train, y_train, epochs=5, validation_split=0.2)"
   ]
  },
  {
   "cell_type": "code",
   "execution_count": 39,
   "metadata": {},
   "outputs": [
    {
     "name": "stdout",
     "output_type": "stream",
     "text": [
      "El entrenamiento tardó 181.19 segundos\n"
     ]
    }
   ],
   "source": [
    "fin = time.time()\n",
    "print(f'El entrenamiento tardó {round(fin-inicio,2)} segundos')"
   ]
  },
  {
   "cell_type": "code",
   "execution_count": 40,
   "metadata": {},
   "outputs": [
    {
     "data": {
      "image/png": "[encoded data removed]",
      "text/plain": [
       "<Figure size 432x288 with 1 Axes>"
      ]
     },
     "metadata": {
      "needs_background": "light"
     },
     "output_type": "display_data"
    }
   ],
   "source": [
    "\n",
    "epoch_count = range(1, len(hist.history['accuracy']) + 1)\n",
    "sns.lineplot(x=epoch_count,  y=hist.history['accuracy'], label='train')\n",
    "sns.lineplot(x=epoch_count,  y=hist.history['val_accuracy'], label='valid')\n",
    "plt.show()"
   ]
  },
  {
   "cell_type": "markdown",
   "metadata": {},
   "source": [
    "### ** Evaluación del modelo ** "
   ]
  },
  {
   "cell_type": "code",
   "execution_count": 41,
   "metadata": {},
   "outputs": [
    {
     "name": "stdout",
     "output_type": "stream",
     "text": [
      "142/142 [==============================] - 2s 18ms/step - loss: 0.4114 - accuracy: 0.7074\n"
     ]
    },
    {
     "data": {
      "text/plain": [
       "[0.41143444180488586, 0.7074409127235413]"
      ]
     },
     "execution_count": 41,
     "metadata": {},
     "output_type": "execute_result"
    }
   ],
   "source": [
    "model.evaluate(X_test, y_test)"
   ]
  },
  {
   "cell_type": "markdown",
   "metadata": {},
   "source": [
    "### 3 - Entrenar el modelo con Embeddings Fasttext + LSTM"
   ]
  },
  {
   "cell_type": "code",
   "execution_count": 42,
   "metadata": {},
   "outputs": [
    {
     "name": "stdout",
     "output_type": "stream",
     "text": [
      "Los embeddings fasttext.pkl ya están descargados\n"
     ]
    }
   ],
   "source": [
    "# Descargar los embeddings desde un gogle drive (es la forma más rápida)\n",
    "# NOTA: No hay garantía de que estos links perduren, en caso de que no estén\n",
    "# disponibles descargar de la página oficial como se explica en el siguiente bloque\n",
    "\n",
    "import os\n",
    "import gdown\n",
    "if os.access('fasttext.pkl', os.F_OK) is False:\n",
    "    url = 'https://drive.google.com/uc?id=1Qi1r-u5lsEsNqRSxLrpNOqQ3B_ufltCa&export=download'\n",
    "    output = 'fasttext.pkl'\n",
    "    gdown.download(url, output, quiet=False)\n",
    "else:\n",
    "    print(\"Los embeddings fasttext.pkl ya están descargados\")"
   ]
  },
  {
   "cell_type": "code",
   "execution_count": 43,
   "metadata": {},
   "outputs": [],
   "source": [
    "import logging\n",
    "import os\n",
    "from pathlib import Path\n",
    "from io import StringIO\n",
    "import pickle\n",
    "\n",
    "class WordsEmbeddings(object):\n",
    "    logger = logging.getLogger(__name__)\n",
    "\n",
    "    def __init__(self):\n",
    "        # load the embeddings\n",
    "        words_embedding_pkl = Path(self.PKL_PATH)\n",
    "        if not words_embedding_pkl.is_file():\n",
    "            words_embedding_txt = Path(self.WORD_TO_VEC_MODEL_TXT_PATH)\n",
    "            assert words_embedding_txt.is_file(), 'Words embedding not available'\n",
    "            embeddings = self.convert_model_to_pickle()\n",
    "        else:\n",
    "            embeddings = self.load_model_from_pickle()\n",
    "        self.embeddings = embeddings\n",
    "        # build the vocabulary hashmap\n",
    "        index = np.arange(self.embeddings.shape[0])\n",
    "        # Dicctionarios para traducir de embedding a IDX de la palabra\n",
    "        self.word2idx = dict(zip(self.embeddings['word'], index))\n",
    "        self.idx2word = dict(zip(index, self.embeddings['word']))\n",
    "\n",
    "    def get_words_embeddings(self, words):\n",
    "        words_idxs = self.words2idxs(words)\n",
    "        return self.embeddings[words_idxs]['embedding']\n",
    "\n",
    "    def words2idxs(self, words):\n",
    "        return np.array([self.word2idx.get(word, -1) for word in words])\n",
    "\n",
    "    def idxs2words(self, idxs):\n",
    "        return np.array([self.idx2word.get(idx, '-1') for idx in idxs])\n",
    "\n",
    "    def load_model_from_pickle(self):\n",
    "        self.logger.debug('loading words embeddings from pickle {}'.format(\n",
    "                self.PKL_PATH\n",
    "            )\n",
    "        )\n",
    "        max_bytes = 2**28 - 1 # 256MB\n",
    "        bytes_in = bytearray(0)\n",
    "        input_size = os.path.getsize(self.PKL_PATH)\n",
    "        with open(self.PKL_PATH, 'rb') as f_in:\n",
    "            for _ in range(0, input_size, max_bytes):\n",
    "                bytes_in += f_in.read(max_bytes)\n",
    "        embeddings = pickle.loads(bytes_in)\n",
    "        self.logger.debug('words embeddings loaded')\n",
    "        return embeddings\n",
    "\n",
    "    def convert_model_to_pickle(self):\n",
    "        # create a numpy strctured array:\n",
    "        # word     embedding\n",
    "        # U50      np.float32[]\n",
    "        # word_1   a, b, c\n",
    "        # word_2   d, e, f\n",
    "        # ...\n",
    "        # word_n   g, h, i\n",
    "        self.logger.debug('converting and loading words embeddings from text file {}'.format(\n",
    "                self.WORD_TO_VEC_MODEL_TXT_PATH\n",
    "            )\n",
    "        )\n",
    "        structure = [('word', np.dtype('U' + str(self.WORD_MAX_SIZE))),\n",
    "                     ('embedding', np.float32, (self.N_FEATURES,))]\n",
    "        structure = np.dtype(structure)\n",
    "        # load numpy array from disk using a generator\n",
    "        with open(self.WORD_TO_VEC_MODEL_TXT_PATH, encoding=\"utf8\") as words_embeddings_txt:\n",
    "            embeddings_gen = (\n",
    "                (line.split()[0], line.split()[1:]) for line in words_embeddings_txt\n",
    "                if len(line.split()[1:]) == self.N_FEATURES\n",
    "            )\n",
    "            embeddings = np.fromiter(embeddings_gen, structure)\n",
    "        # add a null embedding\n",
    "        null_embedding = np.array(\n",
    "            [('null_embedding', np.zeros((self.N_FEATURES,), dtype=np.float32))],\n",
    "            dtype=structure\n",
    "        )\n",
    "        embeddings = np.concatenate([embeddings, null_embedding])\n",
    "        # dump numpy array to disk using pickle\n",
    "        max_bytes = 2**28 - 1 # # 256MB\n",
    "        bytes_out = pickle.dumps(embeddings, protocol=pickle.HIGHEST_PROTOCOL)\n",
    "        with open(self.PKL_PATH, 'wb') as f_out:\n",
    "            for idx in range(0, len(bytes_out), max_bytes):\n",
    "                f_out.write(bytes_out[idx:idx+max_bytes])\n",
    "        self.logger.debug('words embeddings loaded')\n",
    "        return embeddings\n",
    "\n",
    "\n",
    "class GloveEmbeddings(WordsEmbeddings):\n",
    "    WORD_TO_VEC_MODEL_TXT_PATH = 'glove.twitter.27B.50d.txt'\n",
    "    PKL_PATH = 'gloveembedding.pkl'\n",
    "    N_FEATURES = 50\n",
    "    WORD_MAX_SIZE = 60\n",
    "\n",
    "\n",
    "class FasttextEmbeddings(WordsEmbeddings):\n",
    "    WORD_TO_VEC_MODEL_TXT_PATH = 'cc.en.300.vec'\n",
    "    PKL_PATH = 'fasttext.pkl'\n",
    "    N_FEATURES = 300\n",
    "    WORD_MAX_SIZE = 60"
   ]
  },
  {
   "cell_type": "code",
   "execution_count": 44,
   "metadata": {},
   "outputs": [],
   "source": [
    "model_fasttext = FasttextEmbeddings()"
   ]
  },
  {
   "cell_type": "code",
   "execution_count": 45,
   "metadata": {},
   "outputs": [
    {
     "name": "stdout",
     "output_type": "stream",
     "text": [
      "preparing embedding matrix...\n",
      "number of null word embeddings: 2\n"
     ]
    }
   ],
   "source": [
    "# Crear la Embedding matrix para la cantidad nb_words seleccionadas\n",
    "# nos vamos a quedar sólo con los vectores de embeddings para las palabras\n",
    "# que definimos como vocabulario\n",
    "\n",
    "print('preparing embedding matrix...')\n",
    "embed_dim = 300 # fasttext\n",
    "words_not_found = []\n",
    "\n",
    "# word_index proviene del tokenizer\n",
    "\n",
    "nb_words = min(num_words, len(word_index)) # vocab_size\n",
    "embedding_matrix = np.zeros((nb_words, embed_dim))\n",
    "\n",
    "# word_index está ordenado de mayor a menor frecuencia de palabras\n",
    "# las primeras que entren en el ciclo for serán las más frecuentes\n",
    "# Atención! El tokenizador de Keras no tiene soporte para stop words\n",
    "# las primeras palabras probablemente sean stopwords, para eliminarlas\n",
    "# hay que procesar el word_index o bien elegir otra librería para preprocesamiento\n",
    "# ¡ver clase 2! ;)\n",
    "for word, i in word_index.items():\n",
    "    if i >= nb_words:\n",
    "        continue\n",
    "    embedding_vector = model_fasttext.get_words_embeddings(word)[0]\n",
    "    if (embedding_vector is not None) and len(embedding_vector) > 0:\n",
    "        embedding_matrix[i] = embedding_vector\n",
    "    else:\n",
    "        # words que no estén en el índice de la matriz de embedding tendrán\n",
    "        # como vector de embedding correspondiente todos ceros\n",
    "        words_not_found.append(word)\n",
    "        print(word)\n",
    "\n",
    "print('number of null word embeddings:', np.sum(np.sum(embedding_matrix**2, axis=1) == 0))"
   ]
  },
  {
   "cell_type": "code",
   "execution_count": 46,
   "metadata": {},
   "outputs": [
    {
     "name": "stdout",
     "output_type": "stream",
     "text": [
      "Model: \"sequential_1\"\n",
      "_________________________________________________________________\n",
      " Layer (type)                Output Shape              Param #   \n",
      "=================================================================\n",
      " embedding_1 (Embedding)     (None, 115, 300)          600000    \n",
      "                                                                 \n",
      " bidirectional_2 (Bidirectio  (None, 115, 64)          85248     \n",
      " nal)                                                            \n",
      "                                                                 \n",
      " dropout_2 (Dropout)         (None, 115, 64)           0         \n",
      "                                                                 \n",
      " bidirectional_3 (Bidirectio  (None, 128)              66048     \n",
      " nal)                                                            \n",
      "                                                                 \n",
      " dense_2 (Dense)             (None, 32)                4128      \n",
      "                                                                 \n",
      " dropout_3 (Dropout)         (None, 32)                0         \n",
      "                                                                 \n",
      " dense_3 (Dense)             (None, 3)                 99        \n",
      "                                                                 \n",
      "=================================================================\n",
      "Total params: 755,523\n",
      "Trainable params: 155,523\n",
      "Non-trainable params: 600,000\n",
      "_________________________________________________________________\n"
     ]
    }
   ],
   "source": [
    "# Definimos el modelo\n",
    "\n",
    "model2 = Sequential()\n",
    "# input_dim = vocab_size (max n_words)\n",
    "# input_length = setencias con padding a 200\n",
    "# output_dim = embed_dim (depende que embeddings pre entrenados utilizamos)\n",
    "model2.add(Embedding(input_dim=vocab_size, # definido en el Tokenizador\n",
    "                     output_dim=embed_dim, # dimensión de los embeddings utilizados\n",
    "                     input_length=in_shape, # máxima sentencia de entrada\n",
    "                     weights=[embedding_matrix], # matrix de embeddings\n",
    "                    trainable=False)) # marcar como layer no entrenable\n",
    "\n",
    "model2.add(Bidirectional(LSTM(units=32, return_sequences=True)))\n",
    "model2.add(Dropout(0.5))\n",
    "model2.add(Bidirectional(LSTM(units=64))) # La última capa LSTM no lleva return_sequences\n",
    "\n",
    "model2.add(Dense(units=32, activation='relu'))\n",
    "model2.add(Dropout(rate=0.5))\n",
    "model2.add(Dense(units=out_shape, activation='sigmoid'))\n",
    "\n",
    "model2.compile(optimizer=\"adam\",\n",
    "              loss='binary_crossentropy',\n",
    "              metrics=['accuracy'])\n",
    "\n",
    "model2.summary()"
   ]
  },
  {
   "cell_type": "code",
   "execution_count": 47,
   "metadata": {},
   "outputs": [],
   "source": [
    "# Se inicia la medición de tiempo de entrenamiento\n",
    "inicio = time.time()"
   ]
  },
  {
   "cell_type": "code",
   "execution_count": 48,
   "metadata": {},
   "outputs": [
    {
     "name": "stdout",
     "output_type": "stream",
     "text": [
      "Epoch 1/7\n",
      "453/453 [==============================] - 48s 97ms/step - loss: 0.5719 - accuracy: 0.5489 - val_loss: 0.5502 - val_accuracy: 0.5476\n",
      "Epoch 2/7\n",
      "453/453 [==============================] - 46s 102ms/step - loss: 0.5474 - accuracy: 0.5590 - val_loss: 0.5387 - val_accuracy: 0.5504\n",
      "Epoch 3/7\n",
      "453/453 [==============================] - 48s 106ms/step - loss: 0.5364 - accuracy: 0.5678 - val_loss: 0.5320 - val_accuracy: 0.5683\n",
      "Epoch 4/7\n",
      "453/453 [==============================] - 50s 110ms/step - loss: 0.5276 - accuracy: 0.5775 - val_loss: 0.5200 - val_accuracy: 0.5829\n",
      "Epoch 5/7\n",
      "453/453 [==============================] - 50s 111ms/step - loss: 0.5188 - accuracy: 0.5856 - val_loss: 0.5147 - val_accuracy: 0.5912\n",
      "Epoch 6/7\n",
      "453/453 [==============================] - 52s 115ms/step - loss: 0.5106 - accuracy: 0.5958 - val_loss: 0.5092 - val_accuracy: 0.5932\n",
      "Epoch 7/7\n",
      "453/453 [==============================] - 52s 114ms/step - loss: 0.5038 - accuracy: 0.6031 - val_loss: 0.5075 - val_accuracy: 0.5962\n"
     ]
    }
   ],
   "source": [
    "hist2 = model2.fit(X_train, y_train, epochs=7, validation_split=0.2)"
   ]
  },
  {
   "cell_type": "code",
   "execution_count": 49,
   "metadata": {},
   "outputs": [
    {
     "name": "stdout",
     "output_type": "stream",
     "text": [
      "El entrenamiento tardó 346.39 segundos\n"
     ]
    }
   ],
   "source": [
    "fin = time.time()\n",
    "print(f'El entrenamiento tardó {round(fin-inicio,2)} segundos')"
   ]
  },
  {
   "cell_type": "code",
   "execution_count": 50,
   "metadata": {},
   "outputs": [
    {
     "data": {
      "image/png": "[encoded data removed]",
      "text/plain": [
       "<Figure size 432x288 with 1 Axes>"
      ]
     },
     "metadata": {
      "needs_background": "light"
     },
     "output_type": "display_data"
    }
   ],
   "source": [
    "import matplotlib.pyplot as plt\n",
    "import seaborn as sns\n",
    "epoch_count = range(1, len(hist2.history['accuracy']) + 1)\n",
    "sns.lineplot(x=epoch_count,  y=hist2.history['accuracy'], label='train')\n",
    "sns.lineplot(x=epoch_count,  y=hist2.history['val_accuracy'], label='valid')\n",
    "plt.show()"
   ]
  },
  {
   "cell_type": "markdown",
   "metadata": {},
   "source": [
    "### ** Evaluación del modelo ** "
   ]
  },
  {
   "cell_type": "code",
   "execution_count": 51,
   "metadata": {},
   "outputs": [
    {
     "name": "stdout",
     "output_type": "stream",
     "text": [
      "142/142 [==============================] - 5s 33ms/step - loss: 0.4940 - accuracy: 0.6187\n"
     ]
    },
    {
     "data": {
      "text/plain": [
       "[0.4939865171909332, 0.6186796426773071]"
      ]
     },
     "execution_count": 51,
     "metadata": {},
     "output_type": "execute_result"
    }
   ],
   "source": [
    "model2.evaluate(X_test, y_test)"
   ]
  },
  {
   "cell_type": "markdown",
   "metadata": {},
   "source": [
    "### Conclusiones\n",
    "El datset original tiene 5 clases y se ve que están muy desbalanceados. La clase mayoritaria (clase 4) tiene el 55% de los registros y la minoritaria (clase 0) tiene solo el 3.6% de los registros. Dado esta diferencia se descartó eliminar registros y llevar todos a 821 casos por clase. Decidí juntar la clase 0 con la 1 (quedando como clase 0) y la 2 con la 3 (quedando como clase 1), dejando la clase 4 sin cambios (quedando como clase 2). Este cambio no balanceó por completo el dataset pero lo mejoró significativamente, lo cual mejoró el entrenamiento del modelo. \\\n",
    "Entonces la clase 0 sería malo y regular, la clase 1 bueno y muy bueno y la clase 3 excelente/perfecto.\n",
    "\n",
    "Distribución del Dataset original \n",
    "\n",
    ">Clase . . cant . . . (%) \\\n",
    ">4 . . . . 12540 . . 55.38\\\n",
    ">3 . . . . 4908 . .  21.67\\\n",
    ">2 . . . . 2823 . .  12.46\\\n",
    ">1 . . . . 1549 . . . 6.84\\\n",
    ">0 . . . . 821 . . .  3.62\n",
    "\n",
    "Distribución del Dataset despues de juntar clases\n",
    "\n",
    ">Clase . . cant . . . (%) \\\n",
    ">2 . . . . 12540 . . 55.38 \\\n",
    ">1 . . . .  7731 . . 34.14 \\\n",
    ">0 . . . .  2370 . . 10.46\n",
    "\n",
    "Se utilizaron distintas configuraciones de redes buscando el mejor resultado.\n",
    "\n",
    "Se hicieron dos pruebas. Una sin conexiones bidireccionales, y otra con conexiones bidireccionales. Los resultados fueron los siguientes:\n",
    "\n",
    "\n",
    "\n",
    "**Con conexiones bidireccionales**\\\n",
    "Igual que en el caso anterior, se probó con y sin embeddings pre-entrenados. \\\n",
    "\\\n",
    "Para las pruebas con conexiones bidireccionales con embedding sin pre-entrenamiento se utilizó una red secuencial con una capa inicial de embedding de 300 unidades, una capa lstm bidireccional de 8 neuronas (16 neuronas) con dropoff de 60%, una capa lstm bidireccional de 16 neuronas (32 neuronas) con dropoff del 90% y una capa densa de 32 neuronas y por último una capa densa de 3 neuronas con funcion de antivación sigmoid. \\\n",
    "Con esta arquitectura y un entrenamiento de 5 épocas se logró un accuracy de 0.7074.\\\n",
    "El tiempo total de entrenamiento fue de 181 segundos (aproximadamente 36 segundos por época) \\\n",
    "\\\n",
    "Para las pruebas con conexiones bidireccionales con embedding pre-entrenado se utilizó una red secuencial con una capa inicial de embedding de 300 unidades, una capa lstm bidireccional de 32 neuronas (64 neuronas) con dropoff de 50%, una capa lstm bidireccional de 64 neuronas (128 neuronas) con dropoff del 50% y una capa densa de 32 neuronas y por último una capa densa de 3 neuronas con funcion de antivación sigmoid. \\\n",
    "Con esta arquitectura y un entrenamiento de 7 épocas se logró un accuracy de 0.6187.\\\n",
    "El tiempo total de entrenamiento fue de 346 segundos (aproximadamente 49 segundos por época)\\\n",
    "\\\n",
    "En todos los casos se entrenó con la cantidad de épocas indicadas ya que con mas épocas comenzaba a presentar overfeeting.\\\n",
    "\\\n",
    "Se ve que con capas lstm bidireccionales el accuracy es mejor que con las conexiones bidireccionales y que el entrenamiento se realiza en menor tiempo.\\\\\n",
    "\n",
    "**Sin conexiones bidireccionales**\\\n",
    "Para esta prueba se utilizaron las mismas arquitecturas que las mensionadas en el punto anterior pero sin conexiones bidireccionales, obteniendo los siguientes resultados.\\\n",
    "\\\n",
    "Para la red con embedding sin pre-entrenamiento se obtuvo un accuracy de 0.7161 en 5 épocas (frente al accuracy de 0.7074 de la red sin conexiones bidireccionales). El tiempo de entrenamiento fue de 156 segundos (aproximadamente 31 segundos por época), frente a los 181 segundos de la red con conexiones bidireccionales. \\\n",
    "\\\n",
    "Para la red con embedding sin pre-entrenamiento se obtuvo un accuracy de 0.6083 en 7 épocas (frente al accuracy de 0.6187 de la red sin conexiones bidireccionales). El tiempo de entrenamiento fue de 266 segundos (aproximadamente 38 segundos por época), frente a los 346 segundos de la red con conexiones bidireccionales.\\\n"
   ]
  },
  {
   "cell_type": "code",
   "execution_count": null,
   "metadata": {},
   "outputs": [],
   "source": []
  }
 ],
 "metadata": {
  "accelerator": "GPU",
  "colab": {
   "collapsed_sections": [],
   "provenance": []
  },
  "kernelspec": {
   "display_name": "Python 3 (ipykernel)",
   "language": "python",
   "name": "python3"
  },
  "language_info": {
   "codemirror_mode": {
    "name": "ipython",
    "version": 3
   },
   "file_extension": ".py",
   "mimetype": "text/x-python",
   "name": "python",
   "nbconvert_exporter": "python",
   "pygments_lexer": "ipython3",
   "version": "3.9.11"
  }
 },
 "nbformat": 4,
 "nbformat_minor": 1
}
